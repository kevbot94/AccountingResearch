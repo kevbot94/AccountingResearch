{
 "cells": [
  {
   "cell_type": "markdown",
   "metadata": {},
   "source": [
    "# ETR over the Past 25 Years Replication"
   ]
  },
  {
   "cell_type": "markdown",
   "metadata": {},
   "source": [
    "Import data with 1 lagged year beforehand"
   ]
  },
  {
   "cell_type": "code",
   "execution_count": 1,
   "metadata": {},
   "outputs": [
    {
     "name": "stdout",
     "output_type": "stream",
     "text": [
      "Loading library list...\n",
      "Done\n"
     ]
    }
   ],
   "source": [
    "import pandas as pd\n",
    "import numpy as np\n",
    "import wrds\n",
    "db=wrds.Connection(wrds_username='krs84')"
   ]
  },
  {
   "cell_type": "code",
   "execution_count": 2,
   "metadata": {},
   "outputs": [],
   "source": [
    "df=db.raw_sql('''select gvkey,datadate,fyear,txpd,pi,pifo,txfo,xrd,sale,at,ppent,capx,intan,dltt,dlc,xad,spi,tlcf,sich\n",
    "                from comp.funda \n",
    "                where fyear >1987''')"
   ]
  },
  {
   "cell_type": "markdown",
   "metadata": {},
   "source": [
    "Apply filter requirements:\n",
    "1. Assets greater than 10 million\n",
    "2. Txpd not null\n",
    "3. Pretax income positive\n",
    "4. Non-industrials\n",
    "5. Require at least 5 observations per firm"
   ]
  },
  {
   "cell_type": "code",
   "execution_count": 3,
   "metadata": {},
   "outputs": [],
   "source": [
    "df=df[df['at']>10].reset_index(drop=True)\n",
    "df=df[df['txpd'].notna()].reset_index(drop=True)\n",
    "df=df[df['pi']>0].reset_index(drop=True)\n",
    "df=df[~((df['sich']>3999)&(df['sich']<5000))|((df['sich']>5999)&(df['sich']<7000))].reset_index(drop=True)\n",
    "a=df.groupby('gvkey',as_index=False)['datadate'].count()\n",
    "df=pd.merge(df,a[a['datadate']>=5]['gvkey'],on='gvkey')"
   ]
  },
  {
   "cell_type": "markdown",
   "metadata": {},
   "source": [
    "Create a flag if the difference between the fiscal of one observation and the previous observation is greater than 1"
   ]
  },
  {
   "cell_type": "code",
   "execution_count": 4,
   "metadata": {},
   "outputs": [],
   "source": [
    "df['flag']=df['fyear']-df.groupby('gvkey')['fyear'].shift(1)-1"
   ]
  },
  {
   "cell_type": "markdown",
   "metadata": {},
   "source": [
    "Fill the variables with the appropriate amounts and lag appropriately"
   ]
  },
  {
   "cell_type": "code",
   "execution_count": 5,
   "metadata": {},
   "outputs": [],
   "source": [
    "df['tlcf']=df['tlcf'].fillna(0)"
   ]
  },
  {
   "cell_type": "code",
   "execution_count": 6,
   "metadata": {},
   "outputs": [],
   "source": [
    "df=df.sort_values(['gvkey','datadate'])\n",
    "#Create lagged assets\n",
    "df['lagat']=df.groupby('gvkey')['at'].shift(1)\n",
    "#Ensure that we do not get null values for lagged assets. This shouldn't be a problem, but just in case.\n",
    "df['lagat']=df['lagat'].replace(0,np.nan)\n",
    "#lag tlcf\n",
    "df['lagtlcf']=df.groupby('gvkey')['tlcf'].shift(1)\n",
    "#Fill missing values with 0\n",
    "df['spi']=df['spi'].fillna(0)\n",
    "#Generate variables\n",
    "df['special items']=df['spi']/(df['at'])\n",
    "df['lagged special items']=df.groupby('gvkey')['special items'].shift(1)"
   ]
  },
  {
   "cell_type": "code",
   "execution_count": 7,
   "metadata": {},
   "outputs": [],
   "source": [
    "#Generate an indicator variable for if lagtlcf is greater than 0\n",
    "df['nol']=(df['lagtlcf']>0).astype(int)"
   ]
  },
  {
   "cell_type": "markdown",
   "metadata": {},
   "source": [
    "Creates dnol which is (tlcf-lagged tlcf)/(lagged assets)"
   ]
  },
  {
   "cell_type": "code",
   "execution_count": 8,
   "metadata": {},
   "outputs": [],
   "source": [
    "df['dnol']=(df['tlcf']-df['lagtlcf'])"
   ]
  },
  {
   "cell_type": "code",
   "execution_count": 9,
   "metadata": {},
   "outputs": [],
   "source": [
    "df['dnol']=df['dnol']/df['lagat']"
   ]
  },
  {
   "cell_type": "markdown",
   "metadata": {},
   "source": [
    "Drop observations whose are flagged. We do this because we require all observations to have all controls, and so any lagged variables should actually be missing if we do not have last years data. Hence, we drop them."
   ]
  },
  {
   "cell_type": "code",
   "execution_count": 10,
   "metadata": {},
   "outputs": [],
   "source": [
    "df=df[(df['flag']==0)|(df['flag'].isna())].reset_index(drop=True)"
   ]
  },
  {
   "cell_type": "markdown",
   "metadata": {},
   "source": [
    "Indicator for if absolute value of pifo>0 or txfo is greater than 0"
   ]
  },
  {
   "cell_type": "code",
   "execution_count": 11,
   "metadata": {},
   "outputs": [],
   "source": [
    "df['mne']=((np.abs(df['pifo'])>0)|(np.abs(df['txfo'])>0)).astype(int)"
   ]
  },
  {
   "cell_type": "code",
   "execution_count": 12,
   "metadata": {},
   "outputs": [],
   "source": [
    "#Fill in xrd with 0 when missing\n",
    "df['xrd']=df['xrd'].fillna(0)"
   ]
  },
  {
   "cell_type": "code",
   "execution_count": 13,
   "metadata": {},
   "outputs": [],
   "source": [
    "df['r&d expense']=df['xrd']/df['sale']"
   ]
  },
  {
   "cell_type": "code",
   "execution_count": 14,
   "metadata": {},
   "outputs": [],
   "source": [
    "df['log assets']=np.log(df['at'])"
   ]
  },
  {
   "cell_type": "code",
   "execution_count": 15,
   "metadata": {},
   "outputs": [],
   "source": [
    "df['pp&e']=df['ppent']/df['at']"
   ]
  },
  {
   "cell_type": "code",
   "execution_count": 16,
   "metadata": {},
   "outputs": [],
   "source": [
    "df['intangible assets']=df['intan']/df['at']\n",
    "\n",
    "df['leverage']=(df['dltt']+df['dlc'])/df['at']\n",
    "\n",
    "df['capital expenditures']=df['capx']/df['ppent']\n",
    "\n",
    "df['xad']=df['xad'].fillna(0)\n",
    "\n",
    "df['advertising expense']=df['xad']/df['sale']\n",
    "\n",
    "df['cash etr']=df['txpd']/df['pi']\n",
    "\n",
    "df['pifo']=df['pifo'].fillna(0)"
   ]
  },
  {
   "cell_type": "markdown",
   "metadata": {},
   "source": [
    "The following bound the effective tax rate between 0 and 1, which ensures that it is an actual rate."
   ]
  },
  {
   "cell_type": "code",
   "execution_count": 17,
   "metadata": {},
   "outputs": [],
   "source": [
    "mask = df['cash etr'] > 1\n",
    "column_name = 'cash etr'\n",
    "df.loc[mask, column_name] = 1"
   ]
  },
  {
   "cell_type": "code",
   "execution_count": 18,
   "metadata": {},
   "outputs": [],
   "source": [
    "mask = df['cash etr'] < 0\n",
    "column_name = 'cash etr'\n",
    "df.loc[mask, column_name] = 0"
   ]
  },
  {
   "cell_type": "markdown",
   "metadata": {},
   "source": [
    "We want to drop any infinite values within our subset of control variables"
   ]
  },
  {
   "cell_type": "code",
   "execution_count": 19,
   "metadata": {},
   "outputs": [],
   "source": [
    "df=df.replace([np.inf,-np.inf],np.nan)"
   ]
  },
  {
   "cell_type": "code",
   "execution_count": 20,
   "metadata": {},
   "outputs": [],
   "source": [
    "df=df.dropna(subset=['cash etr','mne', 'log assets', 'r&d expense', 'pp&e',\n",
    "       'intangible assets', 'leverage', 'capital expenditures',\n",
    "       'advertising expense', 'special items','lagged special items','nol',\n",
    "       'dnol', 'mne']).reset_index(drop=True)"
   ]
  },
  {
   "cell_type": "code",
   "execution_count": 21,
   "metadata": {},
   "outputs": [
    {
     "data": {
      "text/html": [
       "<div>\n",
       "<style scoped>\n",
       "    .dataframe tbody tr th:only-of-type {\n",
       "        vertical-align: middle;\n",
       "    }\n",
       "\n",
       "    .dataframe tbody tr th {\n",
       "        vertical-align: top;\n",
       "    }\n",
       "\n",
       "    .dataframe thead th {\n",
       "        text-align: right;\n",
       "    }\n",
       "</style>\n",
       "<table border=\"1\" class=\"dataframe\">\n",
       "  <thead>\n",
       "    <tr style=\"text-align: right;\">\n",
       "      <th></th>\n",
       "      <th>cash etr</th>\n",
       "      <th>mne</th>\n",
       "      <th>log assets</th>\n",
       "      <th>r&amp;d expense</th>\n",
       "      <th>pp&amp;e</th>\n",
       "      <th>intangible assets</th>\n",
       "      <th>leverage</th>\n",
       "      <th>capital expenditures</th>\n",
       "      <th>advertising expense</th>\n",
       "      <th>special items</th>\n",
       "      <th>lagged special items</th>\n",
       "      <th>nol</th>\n",
       "      <th>dnol</th>\n",
       "      <th>mne</th>\n",
       "    </tr>\n",
       "  </thead>\n",
       "  <tbody>\n",
       "    <tr>\n",
       "      <th>count</th>\n",
       "      <td>73083.000000</td>\n",
       "      <td>73083.000000</td>\n",
       "      <td>73083.000000</td>\n",
       "      <td>73083.000000</td>\n",
       "      <td>73083.000000</td>\n",
       "      <td>73083.000000</td>\n",
       "      <td>73083.000000</td>\n",
       "      <td>73083.000000</td>\n",
       "      <td>73083.000000</td>\n",
       "      <td>73083.000000</td>\n",
       "      <td>73083.000000</td>\n",
       "      <td>73083.000000</td>\n",
       "      <td>73083.000000</td>\n",
       "      <td>73083.000000</td>\n",
       "    </tr>\n",
       "    <tr>\n",
       "      <th>mean</th>\n",
       "      <td>0.284476</td>\n",
       "      <td>0.460340</td>\n",
       "      <td>6.652188</td>\n",
       "      <td>0.022621</td>\n",
       "      <td>0.244477</td>\n",
       "      <td>0.135056</td>\n",
       "      <td>0.215491</td>\n",
       "      <td>0.309847</td>\n",
       "      <td>0.010321</td>\n",
       "      <td>-0.002748</td>\n",
       "      <td>-0.001576</td>\n",
       "      <td>0.308936</td>\n",
       "      <td>0.005705</td>\n",
       "      <td>0.460340</td>\n",
       "    </tr>\n",
       "    <tr>\n",
       "      <th>std</th>\n",
       "      <td>0.219103</td>\n",
       "      <td>0.498428</td>\n",
       "      <td>2.122384</td>\n",
       "      <td>0.074910</td>\n",
       "      <td>0.234369</td>\n",
       "      <td>0.179895</td>\n",
       "      <td>0.213842</td>\n",
       "      <td>7.147521</td>\n",
       "      <td>0.028114</td>\n",
       "      <td>0.027663</td>\n",
       "      <td>0.105491</td>\n",
       "      <td>0.462058</td>\n",
       "      <td>0.997118</td>\n",
       "      <td>0.498428</td>\n",
       "    </tr>\n",
       "    <tr>\n",
       "      <th>min</th>\n",
       "      <td>0.000000</td>\n",
       "      <td>0.000000</td>\n",
       "      <td>2.302985</td>\n",
       "      <td>0.000000</td>\n",
       "      <td>0.000004</td>\n",
       "      <td>-0.005334</td>\n",
       "      <td>0.000000</td>\n",
       "      <td>-0.542576</td>\n",
       "      <td>0.000000</td>\n",
       "      <td>-0.347837</td>\n",
       "      <td>-0.597300</td>\n",
       "      <td>0.000000</td>\n",
       "      <td>-32.450772</td>\n",
       "      <td>0.000000</td>\n",
       "    </tr>\n",
       "    <tr>\n",
       "      <th>25%</th>\n",
       "      <td>0.131768</td>\n",
       "      <td>0.000000</td>\n",
       "      <td>5.113950</td>\n",
       "      <td>0.000000</td>\n",
       "      <td>0.053809</td>\n",
       "      <td>0.001898</td>\n",
       "      <td>0.043843</td>\n",
       "      <td>0.123554</td>\n",
       "      <td>0.000000</td>\n",
       "      <td>-0.003453</td>\n",
       "      <td>-0.002810</td>\n",
       "      <td>0.000000</td>\n",
       "      <td>0.000000</td>\n",
       "      <td>0.000000</td>\n",
       "    </tr>\n",
       "    <tr>\n",
       "      <th>50%</th>\n",
       "      <td>0.262863</td>\n",
       "      <td>0.000000</td>\n",
       "      <td>6.542220</td>\n",
       "      <td>0.000000</td>\n",
       "      <td>0.173170</td>\n",
       "      <td>0.049427</td>\n",
       "      <td>0.175201</td>\n",
       "      <td>0.202496</td>\n",
       "      <td>0.000000</td>\n",
       "      <td>0.000000</td>\n",
       "      <td>0.000000</td>\n",
       "      <td>0.000000</td>\n",
       "      <td>0.000000</td>\n",
       "      <td>0.000000</td>\n",
       "    </tr>\n",
       "    <tr>\n",
       "      <th>75%</th>\n",
       "      <td>0.375210</td>\n",
       "      <td>1.000000</td>\n",
       "      <td>7.986638</td>\n",
       "      <td>0.016352</td>\n",
       "      <td>0.360628</td>\n",
       "      <td>0.206923</td>\n",
       "      <td>0.325807</td>\n",
       "      <td>0.327947</td>\n",
       "      <td>0.009000</td>\n",
       "      <td>0.000000</td>\n",
       "      <td>0.000000</td>\n",
       "      <td>1.000000</td>\n",
       "      <td>0.000000</td>\n",
       "      <td>1.000000</td>\n",
       "    </tr>\n",
       "    <tr>\n",
       "      <th>max</th>\n",
       "      <td>1.000000</td>\n",
       "      <td>1.000000</td>\n",
       "      <td>14.914540</td>\n",
       "      <td>14.768279</td>\n",
       "      <td>0.999806</td>\n",
       "      <td>0.938866</td>\n",
       "      <td>6.915781</td>\n",
       "      <td>1713.000000</td>\n",
       "      <td>0.664981</td>\n",
       "      <td>2.594727</td>\n",
       "      <td>26.230976</td>\n",
       "      <td>1.000000</td>\n",
       "      <td>247.467438</td>\n",
       "      <td>1.000000</td>\n",
       "    </tr>\n",
       "  </tbody>\n",
       "</table>\n",
       "</div>"
      ],
      "text/plain": [
       "           cash etr           mne    log assets   r&d expense          pp&e  \\\n",
       "count  73083.000000  73083.000000  73083.000000  73083.000000  73083.000000   \n",
       "mean       0.284476      0.460340      6.652188      0.022621      0.244477   \n",
       "std        0.219103      0.498428      2.122384      0.074910      0.234369   \n",
       "min        0.000000      0.000000      2.302985      0.000000      0.000004   \n",
       "25%        0.131768      0.000000      5.113950      0.000000      0.053809   \n",
       "50%        0.262863      0.000000      6.542220      0.000000      0.173170   \n",
       "75%        0.375210      1.000000      7.986638      0.016352      0.360628   \n",
       "max        1.000000      1.000000     14.914540     14.768279      0.999806   \n",
       "\n",
       "       intangible assets      leverage  capital expenditures  \\\n",
       "count       73083.000000  73083.000000          73083.000000   \n",
       "mean            0.135056      0.215491              0.309847   \n",
       "std             0.179895      0.213842              7.147521   \n",
       "min            -0.005334      0.000000             -0.542576   \n",
       "25%             0.001898      0.043843              0.123554   \n",
       "50%             0.049427      0.175201              0.202496   \n",
       "75%             0.206923      0.325807              0.327947   \n",
       "max             0.938866      6.915781           1713.000000   \n",
       "\n",
       "       advertising expense  special items  lagged special items           nol  \\\n",
       "count         73083.000000   73083.000000          73083.000000  73083.000000   \n",
       "mean              0.010321      -0.002748             -0.001576      0.308936   \n",
       "std               0.028114       0.027663              0.105491      0.462058   \n",
       "min               0.000000      -0.347837             -0.597300      0.000000   \n",
       "25%               0.000000      -0.003453             -0.002810      0.000000   \n",
       "50%               0.000000       0.000000              0.000000      0.000000   \n",
       "75%               0.009000       0.000000              0.000000      1.000000   \n",
       "max               0.664981       2.594727             26.230976      1.000000   \n",
       "\n",
       "               dnol           mne  \n",
       "count  73083.000000  73083.000000  \n",
       "mean       0.005705      0.460340  \n",
       "std        0.997118      0.498428  \n",
       "min      -32.450772      0.000000  \n",
       "25%        0.000000      0.000000  \n",
       "50%        0.000000      0.000000  \n",
       "75%        0.000000      1.000000  \n",
       "max      247.467438      1.000000  "
      ]
     },
     "execution_count": 21,
     "metadata": {},
     "output_type": "execute_result"
    }
   ],
   "source": [
    "df[['cash etr','mne', 'log assets', 'r&d expense', 'pp&e',\n",
    "       'intangible assets', 'leverage', 'capital expenditures',\n",
    "       'advertising expense', 'special items','lagged special items','nol',\n",
    "       'dnol', 'mne']].describe()"
   ]
  },
  {
   "cell_type": "code",
   "execution_count": 22,
   "metadata": {},
   "outputs": [
    {
     "data": {
      "text/html": [
       "<div>\n",
       "<style scoped>\n",
       "    .dataframe tbody tr th:only-of-type {\n",
       "        vertical-align: middle;\n",
       "    }\n",
       "\n",
       "    .dataframe tbody tr th {\n",
       "        vertical-align: top;\n",
       "    }\n",
       "\n",
       "    .dataframe thead th {\n",
       "        text-align: right;\n",
       "    }\n",
       "</style>\n",
       "<table border=\"1\" class=\"dataframe\">\n",
       "  <thead>\n",
       "    <tr style=\"text-align: right;\">\n",
       "      <th></th>\n",
       "      <th>cash etr</th>\n",
       "      <th>mne</th>\n",
       "      <th>log assets</th>\n",
       "      <th>r&amp;d expense</th>\n",
       "      <th>pp&amp;e</th>\n",
       "      <th>intangible assets</th>\n",
       "      <th>leverage</th>\n",
       "      <th>capital expenditures</th>\n",
       "      <th>advertising expense</th>\n",
       "      <th>special items</th>\n",
       "      <th>lagged special items</th>\n",
       "      <th>nol</th>\n",
       "      <th>dnol</th>\n",
       "      <th>mne</th>\n",
       "    </tr>\n",
       "  </thead>\n",
       "  <tbody>\n",
       "    <tr>\n",
       "      <th>cash etr</th>\n",
       "      <td>1.000000</td>\n",
       "      <td>0.022892</td>\n",
       "      <td>-0.042799</td>\n",
       "      <td>-0.036168</td>\n",
       "      <td>-0.058480</td>\n",
       "      <td>0.012528</td>\n",
       "      <td>-0.013479</td>\n",
       "      <td>-0.007892</td>\n",
       "      <td>0.024487</td>\n",
       "      <td>-0.139431</td>\n",
       "      <td>-0.006926</td>\n",
       "      <td>-0.091784</td>\n",
       "      <td>0.000037</td>\n",
       "      <td>0.022892</td>\n",
       "    </tr>\n",
       "    <tr>\n",
       "      <th>mne</th>\n",
       "      <td>0.022892</td>\n",
       "      <td>1.000000</td>\n",
       "      <td>0.220071</td>\n",
       "      <td>0.178915</td>\n",
       "      <td>-0.082812</td>\n",
       "      <td>0.262852</td>\n",
       "      <td>0.032834</td>\n",
       "      <td>-0.004802</td>\n",
       "      <td>0.061580</td>\n",
       "      <td>-0.061753</td>\n",
       "      <td>-0.016699</td>\n",
       "      <td>0.263886</td>\n",
       "      <td>-0.001811</td>\n",
       "      <td>1.000000</td>\n",
       "    </tr>\n",
       "    <tr>\n",
       "      <th>log assets</th>\n",
       "      <td>-0.042799</td>\n",
       "      <td>0.220071</td>\n",
       "      <td>1.000000</td>\n",
       "      <td>-0.035738</td>\n",
       "      <td>-0.025894</td>\n",
       "      <td>0.152442</td>\n",
       "      <td>0.188576</td>\n",
       "      <td>-0.009861</td>\n",
       "      <td>0.013681</td>\n",
       "      <td>-0.030234</td>\n",
       "      <td>-0.013685</td>\n",
       "      <td>0.120139</td>\n",
       "      <td>0.006728</td>\n",
       "      <td>0.220071</td>\n",
       "    </tr>\n",
       "    <tr>\n",
       "      <th>r&amp;d expense</th>\n",
       "      <td>-0.036168</td>\n",
       "      <td>0.178915</td>\n",
       "      <td>-0.035738</td>\n",
       "      <td>1.000000</td>\n",
       "      <td>-0.125287</td>\n",
       "      <td>0.056146</td>\n",
       "      <td>-0.130475</td>\n",
       "      <td>0.001486</td>\n",
       "      <td>0.026039</td>\n",
       "      <td>-0.028525</td>\n",
       "      <td>0.015485</td>\n",
       "      <td>0.108071</td>\n",
       "      <td>-0.000209</td>\n",
       "      <td>0.178915</td>\n",
       "    </tr>\n",
       "    <tr>\n",
       "      <th>pp&amp;e</th>\n",
       "      <td>-0.058480</td>\n",
       "      <td>-0.082812</td>\n",
       "      <td>-0.025894</td>\n",
       "      <td>-0.125287</td>\n",
       "      <td>1.000000</td>\n",
       "      <td>-0.238054</td>\n",
       "      <td>0.218559</td>\n",
       "      <td>-0.014769</td>\n",
       "      <td>-0.070244</td>\n",
       "      <td>0.010541</td>\n",
       "      <td>0.005942</td>\n",
       "      <td>-0.029517</td>\n",
       "      <td>-0.003496</td>\n",
       "      <td>-0.082812</td>\n",
       "    </tr>\n",
       "    <tr>\n",
       "      <th>intangible assets</th>\n",
       "      <td>0.012528</td>\n",
       "      <td>0.262852</td>\n",
       "      <td>0.152442</td>\n",
       "      <td>0.056146</td>\n",
       "      <td>-0.238054</td>\n",
       "      <td>1.000000</td>\n",
       "      <td>0.170218</td>\n",
       "      <td>-0.004037</td>\n",
       "      <td>0.070786</td>\n",
       "      <td>-0.069453</td>\n",
       "      <td>-0.017826</td>\n",
       "      <td>0.231251</td>\n",
       "      <td>0.013629</td>\n",
       "      <td>0.262852</td>\n",
       "    </tr>\n",
       "    <tr>\n",
       "      <th>leverage</th>\n",
       "      <td>-0.013479</td>\n",
       "      <td>0.032834</td>\n",
       "      <td>0.188576</td>\n",
       "      <td>-0.130475</td>\n",
       "      <td>0.218559</td>\n",
       "      <td>0.170218</td>\n",
       "      <td>1.000000</td>\n",
       "      <td>-0.008740</td>\n",
       "      <td>0.000395</td>\n",
       "      <td>-0.029451</td>\n",
       "      <td>0.019659</td>\n",
       "      <td>0.064464</td>\n",
       "      <td>0.005409</td>\n",
       "      <td>0.032834</td>\n",
       "    </tr>\n",
       "    <tr>\n",
       "      <th>capital expenditures</th>\n",
       "      <td>-0.007892</td>\n",
       "      <td>-0.004802</td>\n",
       "      <td>-0.009861</td>\n",
       "      <td>0.001486</td>\n",
       "      <td>-0.014769</td>\n",
       "      <td>-0.004037</td>\n",
       "      <td>-0.008740</td>\n",
       "      <td>1.000000</td>\n",
       "      <td>-0.001276</td>\n",
       "      <td>0.001069</td>\n",
       "      <td>0.000126</td>\n",
       "      <td>0.000954</td>\n",
       "      <td>-0.000030</td>\n",
       "      <td>-0.004802</td>\n",
       "    </tr>\n",
       "    <tr>\n",
       "      <th>advertising expense</th>\n",
       "      <td>0.024487</td>\n",
       "      <td>0.061580</td>\n",
       "      <td>0.013681</td>\n",
       "      <td>0.026039</td>\n",
       "      <td>-0.070244</td>\n",
       "      <td>0.070786</td>\n",
       "      <td>0.000395</td>\n",
       "      <td>-0.001276</td>\n",
       "      <td>1.000000</td>\n",
       "      <td>-0.023652</td>\n",
       "      <td>-0.007230</td>\n",
       "      <td>0.010865</td>\n",
       "      <td>-0.000434</td>\n",
       "      <td>0.061580</td>\n",
       "    </tr>\n",
       "    <tr>\n",
       "      <th>special items</th>\n",
       "      <td>-0.139431</td>\n",
       "      <td>-0.061753</td>\n",
       "      <td>-0.030234</td>\n",
       "      <td>-0.028525</td>\n",
       "      <td>0.010541</td>\n",
       "      <td>-0.069453</td>\n",
       "      <td>-0.029451</td>\n",
       "      <td>0.001069</td>\n",
       "      <td>-0.023652</td>\n",
       "      <td>1.000000</td>\n",
       "      <td>0.021104</td>\n",
       "      <td>-0.024559</td>\n",
       "      <td>-0.002776</td>\n",
       "      <td>-0.061753</td>\n",
       "    </tr>\n",
       "    <tr>\n",
       "      <th>lagged special items</th>\n",
       "      <td>-0.006926</td>\n",
       "      <td>-0.016699</td>\n",
       "      <td>-0.013685</td>\n",
       "      <td>0.015485</td>\n",
       "      <td>0.005942</td>\n",
       "      <td>-0.017826</td>\n",
       "      <td>0.019659</td>\n",
       "      <td>0.000126</td>\n",
       "      <td>-0.007230</td>\n",
       "      <td>0.021104</td>\n",
       "      <td>1.000000</td>\n",
       "      <td>0.002566</td>\n",
       "      <td>0.001766</td>\n",
       "      <td>-0.016699</td>\n",
       "    </tr>\n",
       "    <tr>\n",
       "      <th>nol</th>\n",
       "      <td>-0.091784</td>\n",
       "      <td>0.263886</td>\n",
       "      <td>0.120139</td>\n",
       "      <td>0.108071</td>\n",
       "      <td>-0.029517</td>\n",
       "      <td>0.231251</td>\n",
       "      <td>0.064464</td>\n",
       "      <td>0.000954</td>\n",
       "      <td>0.010865</td>\n",
       "      <td>-0.024559</td>\n",
       "      <td>0.002566</td>\n",
       "      <td>1.000000</td>\n",
       "      <td>-0.006506</td>\n",
       "      <td>0.263886</td>\n",
       "    </tr>\n",
       "    <tr>\n",
       "      <th>dnol</th>\n",
       "      <td>0.000037</td>\n",
       "      <td>-0.001811</td>\n",
       "      <td>0.006728</td>\n",
       "      <td>-0.000209</td>\n",
       "      <td>-0.003496</td>\n",
       "      <td>0.013629</td>\n",
       "      <td>0.005409</td>\n",
       "      <td>-0.000030</td>\n",
       "      <td>-0.000434</td>\n",
       "      <td>-0.002776</td>\n",
       "      <td>0.001766</td>\n",
       "      <td>-0.006506</td>\n",
       "      <td>1.000000</td>\n",
       "      <td>-0.001811</td>\n",
       "    </tr>\n",
       "    <tr>\n",
       "      <th>mne</th>\n",
       "      <td>0.022892</td>\n",
       "      <td>1.000000</td>\n",
       "      <td>0.220071</td>\n",
       "      <td>0.178915</td>\n",
       "      <td>-0.082812</td>\n",
       "      <td>0.262852</td>\n",
       "      <td>0.032834</td>\n",
       "      <td>-0.004802</td>\n",
       "      <td>0.061580</td>\n",
       "      <td>-0.061753</td>\n",
       "      <td>-0.016699</td>\n",
       "      <td>0.263886</td>\n",
       "      <td>-0.001811</td>\n",
       "      <td>1.000000</td>\n",
       "    </tr>\n",
       "  </tbody>\n",
       "</table>\n",
       "</div>"
      ],
      "text/plain": [
       "                      cash etr       mne  log assets  r&d expense      pp&e  \\\n",
       "cash etr              1.000000  0.022892   -0.042799    -0.036168 -0.058480   \n",
       "mne                   0.022892  1.000000    0.220071     0.178915 -0.082812   \n",
       "log assets           -0.042799  0.220071    1.000000    -0.035738 -0.025894   \n",
       "r&d expense          -0.036168  0.178915   -0.035738     1.000000 -0.125287   \n",
       "pp&e                 -0.058480 -0.082812   -0.025894    -0.125287  1.000000   \n",
       "intangible assets     0.012528  0.262852    0.152442     0.056146 -0.238054   \n",
       "leverage             -0.013479  0.032834    0.188576    -0.130475  0.218559   \n",
       "capital expenditures -0.007892 -0.004802   -0.009861     0.001486 -0.014769   \n",
       "advertising expense   0.024487  0.061580    0.013681     0.026039 -0.070244   \n",
       "special items        -0.139431 -0.061753   -0.030234    -0.028525  0.010541   \n",
       "lagged special items -0.006926 -0.016699   -0.013685     0.015485  0.005942   \n",
       "nol                  -0.091784  0.263886    0.120139     0.108071 -0.029517   \n",
       "dnol                  0.000037 -0.001811    0.006728    -0.000209 -0.003496   \n",
       "mne                   0.022892  1.000000    0.220071     0.178915 -0.082812   \n",
       "\n",
       "                      intangible assets  leverage  capital expenditures  \\\n",
       "cash etr                       0.012528 -0.013479             -0.007892   \n",
       "mne                            0.262852  0.032834             -0.004802   \n",
       "log assets                     0.152442  0.188576             -0.009861   \n",
       "r&d expense                    0.056146 -0.130475              0.001486   \n",
       "pp&e                          -0.238054  0.218559             -0.014769   \n",
       "intangible assets              1.000000  0.170218             -0.004037   \n",
       "leverage                       0.170218  1.000000             -0.008740   \n",
       "capital expenditures          -0.004037 -0.008740              1.000000   \n",
       "advertising expense            0.070786  0.000395             -0.001276   \n",
       "special items                 -0.069453 -0.029451              0.001069   \n",
       "lagged special items          -0.017826  0.019659              0.000126   \n",
       "nol                            0.231251  0.064464              0.000954   \n",
       "dnol                           0.013629  0.005409             -0.000030   \n",
       "mne                            0.262852  0.032834             -0.004802   \n",
       "\n",
       "                      advertising expense  special items  \\\n",
       "cash etr                         0.024487      -0.139431   \n",
       "mne                              0.061580      -0.061753   \n",
       "log assets                       0.013681      -0.030234   \n",
       "r&d expense                      0.026039      -0.028525   \n",
       "pp&e                            -0.070244       0.010541   \n",
       "intangible assets                0.070786      -0.069453   \n",
       "leverage                         0.000395      -0.029451   \n",
       "capital expenditures            -0.001276       0.001069   \n",
       "advertising expense              1.000000      -0.023652   \n",
       "special items                   -0.023652       1.000000   \n",
       "lagged special items            -0.007230       0.021104   \n",
       "nol                              0.010865      -0.024559   \n",
       "dnol                            -0.000434      -0.002776   \n",
       "mne                              0.061580      -0.061753   \n",
       "\n",
       "                      lagged special items       nol      dnol       mne  \n",
       "cash etr                         -0.006926 -0.091784  0.000037  0.022892  \n",
       "mne                              -0.016699  0.263886 -0.001811  1.000000  \n",
       "log assets                       -0.013685  0.120139  0.006728  0.220071  \n",
       "r&d expense                       0.015485  0.108071 -0.000209  0.178915  \n",
       "pp&e                              0.005942 -0.029517 -0.003496 -0.082812  \n",
       "intangible assets                -0.017826  0.231251  0.013629  0.262852  \n",
       "leverage                          0.019659  0.064464  0.005409  0.032834  \n",
       "capital expenditures              0.000126  0.000954 -0.000030 -0.004802  \n",
       "advertising expense              -0.007230  0.010865 -0.000434  0.061580  \n",
       "special items                     0.021104 -0.024559 -0.002776 -0.061753  \n",
       "lagged special items              1.000000  0.002566  0.001766 -0.016699  \n",
       "nol                               0.002566  1.000000 -0.006506  0.263886  \n",
       "dnol                              0.001766 -0.006506  1.000000 -0.001811  \n",
       "mne                              -0.016699  0.263886 -0.001811  1.000000  "
      ]
     },
     "execution_count": 22,
     "metadata": {},
     "output_type": "execute_result"
    }
   ],
   "source": [
    "df[['cash etr','mne', 'log assets', 'r&d expense', 'pp&e',\n",
    "       'intangible assets', 'leverage', 'capital expenditures',\n",
    "       'advertising expense', 'special items','lagged special items','nol',\n",
    "       'dnol', 'mne']].corr()"
   ]
  },
  {
   "cell_type": "code",
   "execution_count": 23,
   "metadata": {},
   "outputs": [],
   "source": []
  },
  {
   "cell_type": "markdown",
   "metadata": {},
   "source": [
    "Here I graph the number of multinationals by year"
   ]
  },
  {
   "cell_type": "code",
   "execution_count": 29,
   "metadata": {},
   "outputs": [
    {
     "data": {
      "text/plain": [
       "[<matplotlib.lines.Line2D at 0x1511f58c160>]"
      ]
     },
     "execution_count": 29,
     "metadata": {},
     "output_type": "execute_result"
    },
    {
     "data": {
      "image/png": "[encoded data removed]",
      "text/plain": [
       "<Figure size 432x288 with 1 Axes>"
      ]
     },
     "metadata": {
      "needs_background": "light"
     },
     "output_type": "display_data"
    }
   ],
   "source": [
    "import seaborn as sns\n",
    "import matplotlib.pyplot as plt\n",
    "%matplotlib inline\n",
    "df['datadate']=pd.to_datetime(df['datadate'])\n",
    "df['year']=df['datadate'].dt.year\n",
    "a=df.groupby('year')['mne'].mean()\n",
    "plt.plot(a)"
   ]
  },
  {
   "cell_type": "code",
   "execution_count": 30,
   "metadata": {},
   "outputs": [
    {
     "data": {
      "text/plain": [
       "[<matplotlib.lines.Line2D at 0x1511f5167f0>]"
      ]
     },
     "execution_count": 30,
     "metadata": {},
     "output_type": "execute_result"
    },
    {
     "data": {
      "image/png": "[encoded data removed]",
      "text/plain": [
       "<Figure size 432x288 with 1 Axes>"
      ]
     },
     "metadata": {
      "needs_background": "light"
     },
     "output_type": "display_data"
    }
   ],
   "source": [
    "a=df.groupby('year')['cash etr'].mean()\n",
    "plt.plot(a)"
   ]
  },
  {
   "cell_type": "markdown",
   "metadata": {},
   "source": [
    "Next is the cash effective tax rate by year"
   ]
  },
  {
   "cell_type": "markdown",
   "metadata": {},
   "source": [
    "Generate time variable"
   ]
  },
  {
   "cell_type": "code",
   "execution_count": 31,
   "metadata": {},
   "outputs": [],
   "source": [
    "df['time']=df['fyear']-df['fyear'].min()"
   ]
  },
  {
   "cell_type": "code",
   "execution_count": 32,
   "metadata": {},
   "outputs": [],
   "source": [
    "df['cash_etr']=df['cash etr']"
   ]
  },
  {
   "cell_type": "markdown",
   "metadata": {},
   "source": [
    "Run the cash etr regressions against time for the overall group, and then for multinationals and domestic firms exclusively"
   ]
  },
  {
   "cell_type": "code",
   "execution_count": 38,
   "metadata": {},
   "outputs": [],
   "source": [
    "import ipystata\n",
    "df2=df[['cash_etr','time','mne']]"
   ]
  },
  {
   "cell_type": "code",
   "execution_count": 39,
   "metadata": {},
   "outputs": [
    {
     "name": "stdout",
     "output_type": "stream",
     "text": [
      "\n",
      "Linear regression                               Number of obs     =     73,083\n",
      "                                                F(1, 73081)       =    1324.90\n",
      "                                                Prob > F          =     0.0000\n",
      "                                                R-squared         =     0.0174\n",
      "                                                Root MSE          =     .21719\n",
      "\n",
      "------------------------------------------------------------------------------\n",
      "             |               Robust\n",
      "    cash_etr |      Coef.   Std. Err.      t    P>|t|     [95% Conf. Interval]\n",
      "-------------+----------------------------------------------------------------\n",
      "        time |  -.0034369   .0000944   -36.40   0.000    -.0036219   -.0032518\n",
      "       _cons |   .3387079   .0017457   194.03   0.000     .3352864    .3421294\n",
      "------------------------------------------------------------------------------\n",
      "(39,440 observations deleted)\n",
      "\n",
      "Linear regression                               Number of obs     =     33,643\n",
      "                                                F(1, 33641)       =     543.38\n",
      "                                                Prob > F          =     0.0000\n",
      "                                                R-squared         =     0.0159\n",
      "                                                Root MSE          =     .21428\n",
      "\n",
      "------------------------------------------------------------------------------\n",
      "             |               Robust\n",
      "    cash_etr |      Coef.   Std. Err.      t    P>|t|     [95% Conf. Interval]\n",
      "-------------+----------------------------------------------------------------\n",
      "        time |  -.0032982   .0001415   -23.31   0.000    -.0035755   -.0030209\n",
      "       _cons |   .3442654   .0026696   128.96   0.000     .3390328     .349498\n",
      "------------------------------------------------------------------------------\n",
      "(33,643 observations deleted)\n",
      "\n",
      "Linear regression                               Number of obs     =     39,440\n",
      "                                                F(1, 39438)       =     837.06\n",
      "                                                Prob > F          =     0.0000\n",
      "                                                R-squared         =     0.0197\n",
      "                                                Root MSE          =     .21942\n",
      "\n",
      "------------------------------------------------------------------------------\n",
      "             |               Robust\n",
      "    cash_etr |      Coef.   Std. Err.      t    P>|t|     [95% Conf. Interval]\n",
      "-------------+----------------------------------------------------------------\n",
      "        time |  -.0036703   .0001269   -28.93   0.000     -.003919   -.0034217\n",
      "       _cons |   .3355613   .0023033   145.69   0.000     .3310468    .3400758\n",
      "------------------------------------------------------------------------------\n"
     ]
    }
   ],
   "source": [
    "%%stata -d df2\n",
    "reg cash_etr time, robust\n",
    "preserve\n",
    "keep if mne==1\n",
    "reg cash_etr time, robust\n",
    "restore\n",
    "preserve\n",
    "keep if mne==0\n",
    "reg cash_etr time, robust\n",
    "restore\n"
   ]
  },
  {
   "cell_type": "code",
   "execution_count": null,
   "metadata": {},
   "outputs": [],
   "source": []
  }
 ],
 "metadata": {
  "kernelspec": {
   "display_name": "Python 3",
   "language": "python",
   "name": "python3"
  },
  "language_info": {
   "codemirror_mode": {
    "name": "ipython",
    "version": 3
   },
   "file_extension": ".py",
   "mimetype": "text/x-python",
   "name": "python",
   "nbconvert_exporter": "python",
   "pygments_lexer": "ipython3",
   "version": "3.7.3"
  }
 },
 "nbformat": 4,
 "nbformat_minor": 2
}
