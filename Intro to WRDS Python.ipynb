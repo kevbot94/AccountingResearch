{
 "cells": [
  {
   "cell_type": "markdown",
   "metadata": {},
   "source": [
    "Install the package"
   ]
  },
  {
   "cell_type": "code",
   "execution_count": 1,
   "metadata": {},
   "outputs": [
    {
     "name": "stdout",
     "output_type": "stream",
     "text": [
      "Requirement already satisfied: wrds in c:\\users\\kstan\\anaconda3\\lib\\site-packages (3.0.8)\n",
      "Requirement already satisfied: sqlalchemy in c:\\users\\kstan\\anaconda3\\lib\\site-packages (from wrds) (1.3.8)\n",
      "Requirement already satisfied: psycopg2-binary in c:\\users\\kstan\\anaconda3\\lib\\site-packages (from wrds) (2.8.3)\n",
      "Requirement already satisfied: pandas in c:\\users\\kstan\\anaconda3\\lib\\site-packages (from wrds) (0.25.3)\n",
      "Requirement already satisfied: mock in c:\\users\\kstan\\anaconda3\\lib\\site-packages (from wrds) (3.0.5)\n",
      "Requirement already satisfied: python-dateutil>=2.6.1 in c:\\users\\kstan\\anaconda3\\lib\\site-packages (from pandas->wrds) (2.8.0)\n",
      "Requirement already satisfied: pytz>=2017.2 in c:\\users\\kstan\\anaconda3\\lib\\site-packages (from pandas->wrds) (2019.2)\n",
      "Requirement already satisfied: numpy>=1.13.3 in c:\\users\\kstan\\anaconda3\\lib\\site-packages (from pandas->wrds) (1.16.4)\n",
      "Requirement already satisfied: six in c:\\users\\kstan\\anaconda3\\lib\\site-packages (from mock->wrds) (1.12.0)\n"
     ]
    }
   ],
   "source": [
    "!pip install wrds"
   ]
  },
  {
   "cell_type": "markdown",
   "metadata": {},
   "source": [
    "Import the package and enter your username and password"
   ]
  },
  {
   "cell_type": "code",
   "execution_count": null,
   "metadata": {},
   "outputs": [],
   "source": [
    "import wrds\n",
    "db=wrds.Connection(wrds_username='GoDuke')"
   ]
  },
  {
   "cell_type": "markdown",
   "metadata": {},
   "source": [
    "Query python tables using the raw_sql function and SQL"
   ]
  },
  {
   "cell_type": "code",
   "execution_count": null,
   "metadata": {},
   "outputs": [],
   "source": [
    "compustat=db.raw_sql('''\n",
    "select cik,gvkey, tic, fyear,datadate,clo,\n",
    "mkvalt,at,ceq,lt,ib,csho,prcc_f,revt,sich\n",
    "From comp.funda WHERE fyear>2010\n",
    "and (indfmt='INDL') and (datafmt='STD') and (popsrc='D') and (consol='C')\n",
    "''')"
   ]
  }
 ],
 "metadata": {
  "kernelspec": {
   "display_name": "Python 3",
   "language": "python",
   "name": "python3"
  },
  "language_info": {
   "codemirror_mode": {
    "name": "ipython",
    "version": 3
   },
   "file_extension": ".py",
   "mimetype": "text/x-python",
   "name": "python",
   "nbconvert_exporter": "python",
   "pygments_lexer": "ipython3",
   "version": "3.7.3"
  }
 },
 "nbformat": 4,
 "nbformat_minor": 2
}
